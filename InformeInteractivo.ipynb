{
 "cells": [
  {
   "cell_type": "markdown",
   "metadata": {},
   "source": [
    "<h1 style=\"color:#2E86C1; font-family:Arial, sans-serif; text-align:center; padding:20px;\">\n",
    "  ¿Por Qué los Clientes Abandonan sus Tarjetas de Crédito?<br>\n",
    "  <span style=\"font-size: 22px; color:#566573;\">Una Mirada a Través de los Datos</span>\n",
    "</h1>"
   ]
  },
  {
   "cell_type": "markdown",
   "metadata": {},
   "source": [
    "### Análisis exploratorio y visualización de un conjunto de datos del sector bancario\n",
    "\n",
    "El presente informe se centra en el análisis de un conjunto de datos relacionados con el abandono de tarjetas de crédito por parte de los clientes, un fenómeno que ha cobrado relevancia en el sector bancario en los últimos años. En muchos casos, los clientes solicitan tarjetas de crédito únicamente con el fin de aprovechar bonificaciones de bienvenida u otros beneficios promocionales. Posteriormente, una vez obtenidas dichas ventajas y antes de que se cobre la siguiente cuota anual, estos clientes cancelan la tarjeta, generando pérdidas para las entidades emisoras.\n",
    "\n",
    "El conjunto de datos utilizado para este análisis se encuentra disponible en la plataforma Kaggle, una comunidad en línea ampliamente reconocida por ofrecer recursos de calidad para proyectos de ciencia de datos y aprendizaje automático. Debido a la reputación de esta fuente, se considera que los datos son fiables y que han sido recopilados y procesados de manera rigurosa.\n",
    "\n",
    "El objetivo del análisis es identificar los factores que influyen en la cancelación de tarjetas de crédito y detectar patrones comunes entre los clientes que optan por darse de baja. Este problema es de especial interés para las entidades financieras, que buscan reducir la pérdida de clientes mediante estrategias de retención más efectivas.\n",
    "\n",
    "A través de técnicas de visualización de datos, se pretende responder a preguntas clave como: ¿qué características comparten los clientes que cancelan sus tarjetas? ¿Qué motivos pueden llevar a un cliente a abandonar el uso de una tarjeta de crédito? El conjunto de datos proporciona información suficiente para abordar estas cuestiones y extraer conclusiones relevantes que pueden ser útiles tanto desde una perspectiva analítica como práctica."
   ]
  },
  {
   "cell_type": "code",
   "execution_count": 1,
   "metadata": {},
   "outputs": [],
   "source": [
    "# Librerías básicas\n",
    "import pandas as pd\n",
    "import numpy as np\n",
    "import matplotlib.pyplot as plt\n",
    "import seaborn as sns"
   ]
  },
  {
   "cell_type": "code",
   "execution_count": 2,
   "metadata": {},
   "outputs": [
    {
     "data": {
      "text/html": [
       "<div>\n",
       "<style scoped>\n",
       "    .dataframe tbody tr th:only-of-type {\n",
       "        vertical-align: middle;\n",
       "    }\n",
       "\n",
       "    .dataframe tbody tr th {\n",
       "        vertical-align: top;\n",
       "    }\n",
       "\n",
       "    .dataframe thead th {\n",
       "        text-align: right;\n",
       "    }\n",
       "</style>\n",
       "<table border=\"1\" class=\"dataframe\">\n",
       "  <thead>\n",
       "    <tr style=\"text-align: right;\">\n",
       "      <th></th>\n",
       "      <th>CLIENTNUM</th>\n",
       "      <th>Attrition_Flag</th>\n",
       "      <th>Customer_Age</th>\n",
       "      <th>Gender</th>\n",
       "      <th>Dependent_count</th>\n",
       "      <th>Education_Level</th>\n",
       "      <th>Marital_Status</th>\n",
       "      <th>Income_Category</th>\n",
       "      <th>Card_Category</th>\n",
       "      <th>Months_on_book</th>\n",
       "      <th>...</th>\n",
       "      <th>Credit_Limit</th>\n",
       "      <th>Total_Revolving_Bal</th>\n",
       "      <th>Avg_Open_To_Buy</th>\n",
       "      <th>Total_Amt_Chng_Q4_Q1</th>\n",
       "      <th>Total_Trans_Amt</th>\n",
       "      <th>Total_Trans_Ct</th>\n",
       "      <th>Total_Ct_Chng_Q4_Q1</th>\n",
       "      <th>Avg_Utilization_Ratio</th>\n",
       "      <th>Naive_Bayes_Classifier_Attrition_Flag_Card_Category_Contacts_Count_12_mon_Dependent_count_Education_Level_Months_Inactive_12_mon_1</th>\n",
       "      <th>Naive_Bayes_Classifier_Attrition_Flag_Card_Category_Contacts_Count_12_mon_Dependent_count_Education_Level_Months_Inactive_12_mon_2</th>\n",
       "    </tr>\n",
       "  </thead>\n",
       "  <tbody>\n",
       "    <tr>\n",
       "      <th>0</th>\n",
       "      <td>768805383</td>\n",
       "      <td>Existing Customer</td>\n",
       "      <td>45</td>\n",
       "      <td>M</td>\n",
       "      <td>3</td>\n",
       "      <td>High School</td>\n",
       "      <td>Married</td>\n",
       "      <td>$60K - $80K</td>\n",
       "      <td>Blue</td>\n",
       "      <td>39</td>\n",
       "      <td>...</td>\n",
       "      <td>12691.0</td>\n",
       "      <td>777</td>\n",
       "      <td>11914.0</td>\n",
       "      <td>1.335</td>\n",
       "      <td>1144</td>\n",
       "      <td>42</td>\n",
       "      <td>1.625</td>\n",
       "      <td>0.061</td>\n",
       "      <td>0.000093</td>\n",
       "      <td>0.99991</td>\n",
       "    </tr>\n",
       "    <tr>\n",
       "      <th>1</th>\n",
       "      <td>818770008</td>\n",
       "      <td>Existing Customer</td>\n",
       "      <td>49</td>\n",
       "      <td>F</td>\n",
       "      <td>5</td>\n",
       "      <td>Graduate</td>\n",
       "      <td>Single</td>\n",
       "      <td>Less than $40K</td>\n",
       "      <td>Blue</td>\n",
       "      <td>44</td>\n",
       "      <td>...</td>\n",
       "      <td>8256.0</td>\n",
       "      <td>864</td>\n",
       "      <td>7392.0</td>\n",
       "      <td>1.541</td>\n",
       "      <td>1291</td>\n",
       "      <td>33</td>\n",
       "      <td>3.714</td>\n",
       "      <td>0.105</td>\n",
       "      <td>0.000057</td>\n",
       "      <td>0.99994</td>\n",
       "    </tr>\n",
       "    <tr>\n",
       "      <th>2</th>\n",
       "      <td>713982108</td>\n",
       "      <td>Existing Customer</td>\n",
       "      <td>51</td>\n",
       "      <td>M</td>\n",
       "      <td>3</td>\n",
       "      <td>Graduate</td>\n",
       "      <td>Married</td>\n",
       "      <td>$80K - $120K</td>\n",
       "      <td>Blue</td>\n",
       "      <td>36</td>\n",
       "      <td>...</td>\n",
       "      <td>3418.0</td>\n",
       "      <td>0</td>\n",
       "      <td>3418.0</td>\n",
       "      <td>2.594</td>\n",
       "      <td>1887</td>\n",
       "      <td>20</td>\n",
       "      <td>2.333</td>\n",
       "      <td>0.000</td>\n",
       "      <td>0.000021</td>\n",
       "      <td>0.99998</td>\n",
       "    </tr>\n",
       "    <tr>\n",
       "      <th>3</th>\n",
       "      <td>769911858</td>\n",
       "      <td>Existing Customer</td>\n",
       "      <td>40</td>\n",
       "      <td>F</td>\n",
       "      <td>4</td>\n",
       "      <td>High School</td>\n",
       "      <td>Unknown</td>\n",
       "      <td>Less than $40K</td>\n",
       "      <td>Blue</td>\n",
       "      <td>34</td>\n",
       "      <td>...</td>\n",
       "      <td>3313.0</td>\n",
       "      <td>2517</td>\n",
       "      <td>796.0</td>\n",
       "      <td>1.405</td>\n",
       "      <td>1171</td>\n",
       "      <td>20</td>\n",
       "      <td>2.333</td>\n",
       "      <td>0.760</td>\n",
       "      <td>0.000134</td>\n",
       "      <td>0.99987</td>\n",
       "    </tr>\n",
       "    <tr>\n",
       "      <th>4</th>\n",
       "      <td>709106358</td>\n",
       "      <td>Existing Customer</td>\n",
       "      <td>40</td>\n",
       "      <td>M</td>\n",
       "      <td>3</td>\n",
       "      <td>Uneducated</td>\n",
       "      <td>Married</td>\n",
       "      <td>$60K - $80K</td>\n",
       "      <td>Blue</td>\n",
       "      <td>21</td>\n",
       "      <td>...</td>\n",
       "      <td>4716.0</td>\n",
       "      <td>0</td>\n",
       "      <td>4716.0</td>\n",
       "      <td>2.175</td>\n",
       "      <td>816</td>\n",
       "      <td>28</td>\n",
       "      <td>2.500</td>\n",
       "      <td>0.000</td>\n",
       "      <td>0.000022</td>\n",
       "      <td>0.99998</td>\n",
       "    </tr>\n",
       "  </tbody>\n",
       "</table>\n",
       "<p>5 rows × 23 columns</p>\n",
       "</div>"
      ],
      "text/plain": [
       "   CLIENTNUM     Attrition_Flag  Customer_Age Gender  Dependent_count  \\\n",
       "0  768805383  Existing Customer            45      M                3   \n",
       "1  818770008  Existing Customer            49      F                5   \n",
       "2  713982108  Existing Customer            51      M                3   \n",
       "3  769911858  Existing Customer            40      F                4   \n",
       "4  709106358  Existing Customer            40      M                3   \n",
       "\n",
       "  Education_Level Marital_Status Income_Category Card_Category  \\\n",
       "0     High School        Married     $60K - $80K          Blue   \n",
       "1        Graduate         Single  Less than $40K          Blue   \n",
       "2        Graduate        Married    $80K - $120K          Blue   \n",
       "3     High School        Unknown  Less than $40K          Blue   \n",
       "4      Uneducated        Married     $60K - $80K          Blue   \n",
       "\n",
       "   Months_on_book  ...  Credit_Limit  Total_Revolving_Bal  Avg_Open_To_Buy  \\\n",
       "0              39  ...       12691.0                  777          11914.0   \n",
       "1              44  ...        8256.0                  864           7392.0   \n",
       "2              36  ...        3418.0                    0           3418.0   \n",
       "3              34  ...        3313.0                 2517            796.0   \n",
       "4              21  ...        4716.0                    0           4716.0   \n",
       "\n",
       "   Total_Amt_Chng_Q4_Q1  Total_Trans_Amt  Total_Trans_Ct  Total_Ct_Chng_Q4_Q1  \\\n",
       "0                 1.335             1144              42                1.625   \n",
       "1                 1.541             1291              33                3.714   \n",
       "2                 2.594             1887              20                2.333   \n",
       "3                 1.405             1171              20                2.333   \n",
       "4                 2.175              816              28                2.500   \n",
       "\n",
       "   Avg_Utilization_Ratio  \\\n",
       "0                  0.061   \n",
       "1                  0.105   \n",
       "2                  0.000   \n",
       "3                  0.760   \n",
       "4                  0.000   \n",
       "\n",
       "   Naive_Bayes_Classifier_Attrition_Flag_Card_Category_Contacts_Count_12_mon_Dependent_count_Education_Level_Months_Inactive_12_mon_1  \\\n",
       "0                                           0.000093                                                                                    \n",
       "1                                           0.000057                                                                                    \n",
       "2                                           0.000021                                                                                    \n",
       "3                                           0.000134                                                                                    \n",
       "4                                           0.000022                                                                                    \n",
       "\n",
       "   Naive_Bayes_Classifier_Attrition_Flag_Card_Category_Contacts_Count_12_mon_Dependent_count_Education_Level_Months_Inactive_12_mon_2  \n",
       "0                                            0.99991                                                                                   \n",
       "1                                            0.99994                                                                                   \n",
       "2                                            0.99998                                                                                   \n",
       "3                                            0.99987                                                                                   \n",
       "4                                            0.99998                                                                                   \n",
       "\n",
       "[5 rows x 23 columns]"
      ]
     },
     "execution_count": 2,
     "metadata": {},
     "output_type": "execute_result"
    }
   ],
   "source": [
    "# Lectura del archivo\n",
    "df = pd.read_csv('BankChurners.csv', low_memory=False)\n",
    "df.head()"
   ]
  },
  {
   "cell_type": "markdown",
   "metadata": {},
   "source": [
    "Definición de las características:\n",
    "\n",
    "- CLIENTNUM: Número de cliente. Identificador único del cliente titular de la cuenta\n",
    "- Attrition_Flag: Variable de evento interno (actividad del cliente) - si la cuenta se cierra, entonces 1, en caso contrario 0\n",
    "- Customer_Age: variable demográfica - edad del cliente en años\n",
    "- Gender: Variable demográfica - M=Hombre, F=Mujer\n",
    "- Dependent_count: Variable demográfica - Número de personas a cargo\n",
    "- Education_level: Variable demográfica - Cualificación educativa del titular de la cuenta (ejemplo: bachillerato, licenciatura, etc.)\n",
    "- Marital_status: Variable demográfica - Casado, soltero, divorciado, desconocido\n",
    "- Income_category: Variable demográfica: categoría de ingresos anuales en dolares del titular de la cuenta (< 40 000, entre 40 000 y 60 000, entre 60 000 y 80 000, entre 80 000 y 120 000, > 120 000, desconocida).\n",
    "- Card_Category: Variable de producto - Tipo de tarjeta (Azul, Plata, Oro, Platino)\n",
    "- Months_on_book: Periodo de relación con el banco\n",
    "- Total_Relationship_Count: Nº total de productos que posee el cliente\n",
    "- Months_Inactive_12_mon: Nº de meses inactivo en los últimos 12 meses\n",
    "- Contacts_Count_12_mon: Nº de contactos en los últimos 12 meses\n",
    "- Credit_Limit: Límite de crédito de la tarjeta de crédito\n",
    "- Total_Revolving_Bal: Saldo Rotativo Total de la Tarjeta de Crédito\n",
    "- Avg_Open_To_Buy: Línea de crédito abierta a la compra (media de los últimos 12 meses)\n",
    "- Total_Amt_Chng_Q4_Q1: Cambio en el importe de las transacciones (4T sobre 1T)\n",
    "- Total_Trans_Amt: Importe total de las transacciones (últimos 12 meses)\n",
    "- Total_Trans_Ct: Total de transacciones (últimos 12 meses)\n",
    "- Total_Ct_Chng_Q4_Q1: Cambio en el número de transacciones (4T sobre 1T)\n",
    "- Avg_Utilization_Ratio: Índice medio de utilización de tarjetas\n",
    "- Naive_Bayes_Classifier_Attrition_Flag_Card_Category_Contacts_Count_12_mon_Dependent_count_Education_Level_Months_Inactive_12_mon_1: Naive Bayes\n",
    "- Naive_Bayes_Classifier_Attrition_Flag_Card_Category_Contacts_Count_12_mon_Dependent_count_Education_Level_Months_Inactive_12_mon_2: Naive Bayes\n",
    "\n",
    "Fuente: https://www.kaggle.com/datasets/sakshigoyal7/credit-card-customers"
   ]
  },
  {
   "cell_type": "markdown",
   "metadata": {},
   "source": [
    "### Borrar funciones inútiles:\n",
    "Hay algunas características de la tabla de datos que no aportan en el análisis que se quiere hacer en esta práctica. Las variables son las siguientes:\n",
    "- CLIENTNUM: número de identificación del cliente\n",
    "- Naive_Bayes_Classifier_Attrition_Flag_Card_Category_Contacts_Count_12_mon_Dependent_count_Education_Level_Months_Inactive_12_mon_1 : Naive Bayes de otro modelo de aprendizaje automático\n",
    "- Naive_Bayes_Classifier_Attrition_Flag_Card_Category_Contacts_Count_12_mon_Dependent_count_Education_Level_Months_Inactive_12_mon_2 : Naive Bayes de otro modelo de aprendizaje automático\n"
   ]
  },
  {
   "cell_type": "code",
   "execution_count": 3,
   "metadata": {},
   "outputs": [],
   "source": [
    "useless = ['CLIENTNUM','Naive_Bayes_Classifier_Attrition_Flag_Card_Category_Contacts_Count_12_mon_Dependent_count_Education_Level_Months_Inactive_12_mon_1',\n",
    "           'Naive_Bayes_Classifier_Attrition_Flag_Card_Category_Contacts_Count_12_mon_Dependent_count_Education_Level_Months_Inactive_12_mon_2']\n",
    "dfDrop = df.drop(useless, axis=1)"
   ]
  },
  {
   "cell_type": "markdown",
   "metadata": {},
   "source": [
    "## Análisis y visualización de los datos\n",
    "\n",
    "En primer lugar, se realizó una exploración visual de las variables del conjunto de datos con el objetivo de identificar posibles patrones o relaciones significativas. Para ello, se utilizaron principalmente gráficos de barras y otros recursos visuales.\n",
    "\n",
    "Se analizaron diversas características estadísticas de las variables, como la media, la desviación estándar, así como los valores mínimos y máximos, lo que permitió obtener una visión general del comportamiento de los datos.\n",
    "\n",
    "Las variables numéricas se representaron mediante gráficos combinados, que integran líneas y barras para facilitar la comparación de tendencias y magnitudes. Por otro lado, las variables categóricas se visualizaron exclusivamente mediante gráficos de barras, dada su naturaleza discreta y cualitativa.\n",
    "\n",
    "Este enfoque permitió identificar diferencias clave entre los distintos grupos de clientes y facilitó la interpretación de los datos en relación con el problema del abandono de tarjetas de crédito."
   ]
  },
  {
   "cell_type": "code",
   "execution_count": 4,
   "metadata": {},
   "outputs": [
    {
     "data": {
      "text/html": [
       "<div>\n",
       "<style scoped>\n",
       "    .dataframe tbody tr th:only-of-type {\n",
       "        vertical-align: middle;\n",
       "    }\n",
       "\n",
       "    .dataframe tbody tr th {\n",
       "        vertical-align: top;\n",
       "    }\n",
       "\n",
       "    .dataframe thead th {\n",
       "        text-align: right;\n",
       "    }\n",
       "</style>\n",
       "<table border=\"1\" class=\"dataframe\">\n",
       "  <thead>\n",
       "    <tr style=\"text-align: right;\">\n",
       "      <th></th>\n",
       "      <th>count</th>\n",
       "      <th>mean</th>\n",
       "      <th>std</th>\n",
       "      <th>min</th>\n",
       "      <th>25%</th>\n",
       "      <th>50%</th>\n",
       "      <th>75%</th>\n",
       "      <th>max</th>\n",
       "    </tr>\n",
       "  </thead>\n",
       "  <tbody>\n",
       "    <tr>\n",
       "      <th>Customer_Age</th>\n",
       "      <td>10127.0</td>\n",
       "      <td>46.325960</td>\n",
       "      <td>8.016814</td>\n",
       "      <td>26.0</td>\n",
       "      <td>41.000</td>\n",
       "      <td>46.000</td>\n",
       "      <td>52.000</td>\n",
       "      <td>73.000</td>\n",
       "    </tr>\n",
       "    <tr>\n",
       "      <th>Dependent_count</th>\n",
       "      <td>10127.0</td>\n",
       "      <td>2.346203</td>\n",
       "      <td>1.298908</td>\n",
       "      <td>0.0</td>\n",
       "      <td>1.000</td>\n",
       "      <td>2.000</td>\n",
       "      <td>3.000</td>\n",
       "      <td>5.000</td>\n",
       "    </tr>\n",
       "    <tr>\n",
       "      <th>Months_on_book</th>\n",
       "      <td>10127.0</td>\n",
       "      <td>35.928409</td>\n",
       "      <td>7.986416</td>\n",
       "      <td>13.0</td>\n",
       "      <td>31.000</td>\n",
       "      <td>36.000</td>\n",
       "      <td>40.000</td>\n",
       "      <td>56.000</td>\n",
       "    </tr>\n",
       "    <tr>\n",
       "      <th>Total_Relationship_Count</th>\n",
       "      <td>10127.0</td>\n",
       "      <td>3.812580</td>\n",
       "      <td>1.554408</td>\n",
       "      <td>1.0</td>\n",
       "      <td>3.000</td>\n",
       "      <td>4.000</td>\n",
       "      <td>5.000</td>\n",
       "      <td>6.000</td>\n",
       "    </tr>\n",
       "    <tr>\n",
       "      <th>Months_Inactive_12_mon</th>\n",
       "      <td>10127.0</td>\n",
       "      <td>2.341167</td>\n",
       "      <td>1.010622</td>\n",
       "      <td>0.0</td>\n",
       "      <td>2.000</td>\n",
       "      <td>2.000</td>\n",
       "      <td>3.000</td>\n",
       "      <td>6.000</td>\n",
       "    </tr>\n",
       "    <tr>\n",
       "      <th>Contacts_Count_12_mon</th>\n",
       "      <td>10127.0</td>\n",
       "      <td>2.455317</td>\n",
       "      <td>1.106225</td>\n",
       "      <td>0.0</td>\n",
       "      <td>2.000</td>\n",
       "      <td>2.000</td>\n",
       "      <td>3.000</td>\n",
       "      <td>6.000</td>\n",
       "    </tr>\n",
       "    <tr>\n",
       "      <th>Credit_Limit</th>\n",
       "      <td>10127.0</td>\n",
       "      <td>8631.953698</td>\n",
       "      <td>9088.776650</td>\n",
       "      <td>1438.3</td>\n",
       "      <td>2555.000</td>\n",
       "      <td>4549.000</td>\n",
       "      <td>11067.500</td>\n",
       "      <td>34516.000</td>\n",
       "    </tr>\n",
       "    <tr>\n",
       "      <th>Total_Revolving_Bal</th>\n",
       "      <td>10127.0</td>\n",
       "      <td>1162.814061</td>\n",
       "      <td>814.987335</td>\n",
       "      <td>0.0</td>\n",
       "      <td>359.000</td>\n",
       "      <td>1276.000</td>\n",
       "      <td>1784.000</td>\n",
       "      <td>2517.000</td>\n",
       "    </tr>\n",
       "    <tr>\n",
       "      <th>Avg_Open_To_Buy</th>\n",
       "      <td>10127.0</td>\n",
       "      <td>7469.139637</td>\n",
       "      <td>9090.685324</td>\n",
       "      <td>3.0</td>\n",
       "      <td>1324.500</td>\n",
       "      <td>3474.000</td>\n",
       "      <td>9859.000</td>\n",
       "      <td>34516.000</td>\n",
       "    </tr>\n",
       "    <tr>\n",
       "      <th>Total_Amt_Chng_Q4_Q1</th>\n",
       "      <td>10127.0</td>\n",
       "      <td>0.759941</td>\n",
       "      <td>0.219207</td>\n",
       "      <td>0.0</td>\n",
       "      <td>0.631</td>\n",
       "      <td>0.736</td>\n",
       "      <td>0.859</td>\n",
       "      <td>3.397</td>\n",
       "    </tr>\n",
       "    <tr>\n",
       "      <th>Total_Trans_Amt</th>\n",
       "      <td>10127.0</td>\n",
       "      <td>4404.086304</td>\n",
       "      <td>3397.129254</td>\n",
       "      <td>510.0</td>\n",
       "      <td>2155.500</td>\n",
       "      <td>3899.000</td>\n",
       "      <td>4741.000</td>\n",
       "      <td>18484.000</td>\n",
       "    </tr>\n",
       "    <tr>\n",
       "      <th>Total_Trans_Ct</th>\n",
       "      <td>10127.0</td>\n",
       "      <td>64.858695</td>\n",
       "      <td>23.472570</td>\n",
       "      <td>10.0</td>\n",
       "      <td>45.000</td>\n",
       "      <td>67.000</td>\n",
       "      <td>81.000</td>\n",
       "      <td>139.000</td>\n",
       "    </tr>\n",
       "    <tr>\n",
       "      <th>Total_Ct_Chng_Q4_Q1</th>\n",
       "      <td>10127.0</td>\n",
       "      <td>0.712222</td>\n",
       "      <td>0.238086</td>\n",
       "      <td>0.0</td>\n",
       "      <td>0.582</td>\n",
       "      <td>0.702</td>\n",
       "      <td>0.818</td>\n",
       "      <td>3.714</td>\n",
       "    </tr>\n",
       "    <tr>\n",
       "      <th>Avg_Utilization_Ratio</th>\n",
       "      <td>10127.0</td>\n",
       "      <td>0.274894</td>\n",
       "      <td>0.275691</td>\n",
       "      <td>0.0</td>\n",
       "      <td>0.023</td>\n",
       "      <td>0.176</td>\n",
       "      <td>0.503</td>\n",
       "      <td>0.999</td>\n",
       "    </tr>\n",
       "  </tbody>\n",
       "</table>\n",
       "</div>"
      ],
      "text/plain": [
       "                            count         mean          std     min       25%  \\\n",
       "Customer_Age              10127.0    46.325960     8.016814    26.0    41.000   \n",
       "Dependent_count           10127.0     2.346203     1.298908     0.0     1.000   \n",
       "Months_on_book            10127.0    35.928409     7.986416    13.0    31.000   \n",
       "Total_Relationship_Count  10127.0     3.812580     1.554408     1.0     3.000   \n",
       "Months_Inactive_12_mon    10127.0     2.341167     1.010622     0.0     2.000   \n",
       "Contacts_Count_12_mon     10127.0     2.455317     1.106225     0.0     2.000   \n",
       "Credit_Limit              10127.0  8631.953698  9088.776650  1438.3  2555.000   \n",
       "Total_Revolving_Bal       10127.0  1162.814061   814.987335     0.0   359.000   \n",
       "Avg_Open_To_Buy           10127.0  7469.139637  9090.685324     3.0  1324.500   \n",
       "Total_Amt_Chng_Q4_Q1      10127.0     0.759941     0.219207     0.0     0.631   \n",
       "Total_Trans_Amt           10127.0  4404.086304  3397.129254   510.0  2155.500   \n",
       "Total_Trans_Ct            10127.0    64.858695    23.472570    10.0    45.000   \n",
       "Total_Ct_Chng_Q4_Q1       10127.0     0.712222     0.238086     0.0     0.582   \n",
       "Avg_Utilization_Ratio     10127.0     0.274894     0.275691     0.0     0.023   \n",
       "\n",
       "                               50%        75%        max  \n",
       "Customer_Age                46.000     52.000     73.000  \n",
       "Dependent_count              2.000      3.000      5.000  \n",
       "Months_on_book              36.000     40.000     56.000  \n",
       "Total_Relationship_Count     4.000      5.000      6.000  \n",
       "Months_Inactive_12_mon       2.000      3.000      6.000  \n",
       "Contacts_Count_12_mon        2.000      3.000      6.000  \n",
       "Credit_Limit              4549.000  11067.500  34516.000  \n",
       "Total_Revolving_Bal       1276.000   1784.000   2517.000  \n",
       "Avg_Open_To_Buy           3474.000   9859.000  34516.000  \n",
       "Total_Amt_Chng_Q4_Q1         0.736      0.859      3.397  \n",
       "Total_Trans_Amt           3899.000   4741.000  18484.000  \n",
       "Total_Trans_Ct              67.000     81.000    139.000  \n",
       "Total_Ct_Chng_Q4_Q1          0.702      0.818      3.714  \n",
       "Avg_Utilization_Ratio        0.176      0.503      0.999  "
      ]
     },
     "execution_count": 4,
     "metadata": {},
     "output_type": "execute_result"
    }
   ],
   "source": [
    "# Variables númericas\n",
    "dfDrop.describe().T"
   ]
  },
  {
   "cell_type": "code",
   "execution_count": 5,
   "metadata": {},
   "outputs": [
    {
     "data": {
      "application/vnd.jupyter.widget-view+json": {
       "model_id": "4f590cbe224f4857bd312b36a5943af3",
       "version_major": 2,
       "version_minor": 0
      },
      "text/plain": [
       "interactive(children=(Dropdown(description='Variable:', layout=Layout(width='50%'), options=('Customer_Age', '…"
      ]
     },
     "metadata": {},
     "output_type": "display_data"
    }
   ],
   "source": [
    "import pandas as pd\n",
    "import plotly.express as px\n",
    "import ipywidgets as widgets\n",
    "from IPython.display import display\n",
    "\n",
    "# Selección de columnas numéricas válidas\n",
    "num_cols = dfDrop.select_dtypes(include='number').columns.tolist()\n",
    "\n",
    "# Widget para seleccionar la variable\n",
    "var_selector = widgets.Dropdown(\n",
    "    options=num_cols,\n",
    "    value=num_cols[0],\n",
    "    description='Variable:',\n",
    "    style={'description_width': 'initial'},\n",
    "    layout=widgets.Layout(width='50%')\n",
    ")\n",
    "\n",
    "# Widget para elegir si se quiere incluir boxplot\n",
    "boxplot_toggle = widgets.Checkbox(\n",
    "    value=True,\n",
    "    description='Mostrar boxplot',\n",
    "    indent=False\n",
    ")\n",
    "\n",
    "# Función para mostrar histograma interactivo\n",
    "def plot_interactive_hist(var, show_box):\n",
    "    fig = px.histogram(\n",
    "        dfDrop, x=var, nbins=30,\n",
    "        marginal='box' if show_box else None,\n",
    "        opacity=0.75,\n",
    "        title=f'Distribución de: {var}',\n",
    "        template='plotly_white',\n",
    "        color_discrete_sequence=['#6699CC']\n",
    "    )\n",
    "    fig.update_layout(\n",
    "        title_font_size=20,\n",
    "        xaxis_title=var,\n",
    "        yaxis_title='Frecuencia',\n",
    "        bargap=0.05\n",
    "    )\n",
    "    fig.show()\n",
    "\n",
    "# Conectar widgets con función\n",
    "widgets.interact(\n",
    "    plot_interactive_hist,\n",
    "    var=var_selector,\n",
    "    show_box=boxplot_toggle\n",
    ");\n"
   ]
  },
  {
   "cell_type": "markdown",
   "metadata": {},
   "source": [
    "En un primer análisis descriptivo, se observa que la edad media de los clientes (Customer_Age) ronda los 46 años, lo que indica que la mayoría se encuentra en el rango de entre 40 y 50 años. Además, el número medio de personas a su cargo (Dependent_Count) es de dos a tres, lo que sugiere que, en general, se trata de individuos con responsabilidades familiares.\n",
    "\n",
    "En cuanto a la antigüedad de la relación con la entidad bancaria, la mayoría de los clientes lleva aproximadamente tres años siendo parte de la cartera del banco. Respecto al límite de crédito (Credit_Limit), se identifica un promedio de alrededor de 5.000 dólares, aunque existe un pequeño grupo de clientes con un límite significativamente superior, en torno a los 35.000 dólares.\n",
    "\n",
    "En términos de actividad, los clientes realizan en promedio unas 65 transacciones anuales (Total_Trans_Ct), con un monto total de aproximadamente 4.000 dólares en transacciones (Total_Trans_Amt). Esto implica que el valor medio por transacción es de unos 62 dólares, lo cual ofrece una visión general del comportamiento de gasto con las tarjetas de crédito."
   ]
  },
  {
   "cell_type": "code",
   "execution_count": 6,
   "metadata": {},
   "outputs": [
    {
     "data": {
      "text/html": [
       "<div>\n",
       "<style scoped>\n",
       "    .dataframe tbody tr th:only-of-type {\n",
       "        vertical-align: middle;\n",
       "    }\n",
       "\n",
       "    .dataframe tbody tr th {\n",
       "        vertical-align: top;\n",
       "    }\n",
       "\n",
       "    .dataframe thead th {\n",
       "        text-align: right;\n",
       "    }\n",
       "</style>\n",
       "<table border=\"1\" class=\"dataframe\">\n",
       "  <thead>\n",
       "    <tr style=\"text-align: right;\">\n",
       "      <th></th>\n",
       "      <th>count</th>\n",
       "      <th>unique</th>\n",
       "      <th>top</th>\n",
       "      <th>freq</th>\n",
       "    </tr>\n",
       "  </thead>\n",
       "  <tbody>\n",
       "    <tr>\n",
       "      <th>Attrition_Flag</th>\n",
       "      <td>10127</td>\n",
       "      <td>2</td>\n",
       "      <td>Existing Customer</td>\n",
       "      <td>8500</td>\n",
       "    </tr>\n",
       "    <tr>\n",
       "      <th>Gender</th>\n",
       "      <td>10127</td>\n",
       "      <td>2</td>\n",
       "      <td>F</td>\n",
       "      <td>5358</td>\n",
       "    </tr>\n",
       "    <tr>\n",
       "      <th>Education_Level</th>\n",
       "      <td>10127</td>\n",
       "      <td>7</td>\n",
       "      <td>Graduate</td>\n",
       "      <td>3128</td>\n",
       "    </tr>\n",
       "    <tr>\n",
       "      <th>Marital_Status</th>\n",
       "      <td>10127</td>\n",
       "      <td>4</td>\n",
       "      <td>Married</td>\n",
       "      <td>4687</td>\n",
       "    </tr>\n",
       "    <tr>\n",
       "      <th>Income_Category</th>\n",
       "      <td>10127</td>\n",
       "      <td>6</td>\n",
       "      <td>Less than $40K</td>\n",
       "      <td>3561</td>\n",
       "    </tr>\n",
       "    <tr>\n",
       "      <th>Card_Category</th>\n",
       "      <td>10127</td>\n",
       "      <td>4</td>\n",
       "      <td>Blue</td>\n",
       "      <td>9436</td>\n",
       "    </tr>\n",
       "  </tbody>\n",
       "</table>\n",
       "</div>"
      ],
      "text/plain": [
       "                 count unique                top  freq\n",
       "Attrition_Flag   10127      2  Existing Customer  8500\n",
       "Gender           10127      2                  F  5358\n",
       "Education_Level  10127      7           Graduate  3128\n",
       "Marital_Status   10127      4            Married  4687\n",
       "Income_Category  10127      6     Less than $40K  3561\n",
       "Card_Category    10127      4               Blue  9436"
      ]
     },
     "execution_count": 6,
     "metadata": {},
     "output_type": "execute_result"
    }
   ],
   "source": [
    "# Variables categóricas\n",
    "dfDrop.describe(include='object').T"
   ]
  },
  {
   "cell_type": "code",
   "execution_count": 7,
   "metadata": {},
   "outputs": [
    {
     "data": {
      "application/vnd.jupyter.widget-view+json": {
       "model_id": "17b5d2bb6de443548f1f2c6dc6abaaf9",
       "version_major": 2,
       "version_minor": 0
      },
      "text/plain": [
       "interactive(children=(Dropdown(description='Categoría:', layout=Layout(width='50%'), options=('Attrition_Flag'…"
      ]
     },
     "metadata": {},
     "output_type": "display_data"
    }
   ],
   "source": [
    "import plotly.express as px\n",
    "import ipywidgets as widgets\n",
    "from IPython.display import display\n",
    "\n",
    "# Lista de columnas categóricas\n",
    "cat_cols = dfDrop.select_dtypes(include='object').columns.tolist()\n",
    "\n",
    "# Dropdown interactivo\n",
    "cat_dropdown = widgets.Dropdown(\n",
    "    options=cat_cols,\n",
    "    description='Categoría:',\n",
    "    layout=widgets.Layout(width='50%')\n",
    ")\n",
    "\n",
    "# Función de visualización\n",
    "def plot_cat(col):\n",
    "    fig = px.histogram(dfDrop, x=col, color=col,\n",
    "                       title=f'Distribución de {col}',\n",
    "                       template='plotly_white',\n",
    "                       color_discrete_sequence=px.colors.qualitative.Set2)\n",
    "    fig.update_layout(showlegend=False, xaxis_title='', yaxis_title='Frecuencia')\n",
    "    fig.show()\n",
    "\n",
    "# Vincular función al widget\n",
    "widgets.interact(plot_cat, col=cat_dropdown);\n"
   ]
  },
  {
   "cell_type": "markdown",
   "metadata": {},
   "source": [
    "Tras el análisis de las variables categóricas, se han obtenido las siguientes conclusiones:\n",
    "\n",
    "Aproximadamente el 15 % de los clientes han abandonado el servicio de tarjeta de crédito, según la variable Attrition_Flag. En cuanto al género (Gender), la distribución entre hombres y mujeres es equilibrada. La mayoría de los clientes presentan un nivel educativo de grado universitario (Education_Level) y están casados o solteros (Marital_Status).\n",
    "\n",
    "Respecto al tipo de tarjeta, la gran mayoría posee una tarjeta de categoría azul (Card_Category: Blue). Además, la mayoría de los clientes tienen ingresos anuales inferiores a 40.000 dólares.\n",
    "\n",
    "Teniendo en cuenta estas características, el perfil más común entre los clientes es el de una mujer casada, con estudios universitarios, que posee una tarjeta de categoría azul y cuenta con ingresos inferiores a 40.000 dólares anuales."
   ]
  },
  {
   "cell_type": "code",
   "execution_count": 8,
   "metadata": {},
   "outputs": [
    {
     "data": {
      "application/vnd.plotly.v1+json": {
       "config": {
        "plotlyServerURL": "https://plot.ly"
       },
       "data": [
        {
         "hovertemplate": "Estado del Cliente=Existing Customer<br>Cantidad de Transacciones=%{x}<br>Monto Total (USD)=%{y}<extra></extra>",
         "legendgroup": "Existing Customer",
         "marker": {
          "color": "rgb(102,194,165)",
          "opacity": 0.6,
          "symbol": "circle"
         },
         "mode": "markers",
         "name": "Existing Customer",
         "showlegend": true,
         "type": "scattergl",
         "x": {
          "bdata": "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",
          "dtype": "i2"
         },
         "xaxis": "x",
         "y": {
          "bdata": "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",
          "dtype": "i2"
         },
         "yaxis": "y"
        },
        {
         "hovertemplate": "Estado del Cliente=Attrited Customer<br>Cantidad de Transacciones=%{x}<br>Monto Total (USD)=%{y}<extra></extra>",
         "legendgroup": "Attrited Customer",
         "marker": {
          "color": "rgb(252,141,98)",
          "opacity": 0.6,
          "symbol": "circle"
         },
         "mode": "markers",
         "name": "Attrited Customer",
         "showlegend": true,
         "type": "scattergl",
         "x": {
          "bdata": "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",
          "dtype": "i1"
         },
         "xaxis": "x",
         "y": {
          "bdata": "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",
          "dtype": "i2"
         },
         "yaxis": "y"
        }
       ],
       "layout": {
        "height": 600,
        "legend": {
         "title": {
          "font": {
           "size": 12
          },
          "text": "Estado del Cliente"
         },
         "tracegroupgap": 0
        },
        "template": {
         "data": {
          "bar": [
           {
            "error_x": {
             "color": "#2a3f5f"
            },
            "error_y": {
             "color": "#2a3f5f"
            },
            "marker": {
             "line": {
              "color": "white",
              "width": 0.5
             },
             "pattern": {
              "fillmode": "overlay",
              "size": 10,
              "solidity": 0.2
             }
            },
            "type": "bar"
           }
          ],
          "barpolar": [
           {
            "marker": {
             "line": {
              "color": "white",
              "width": 0.5
             },
             "pattern": {
              "fillmode": "overlay",
              "size": 10,
              "solidity": 0.2
             }
            },
            "type": "barpolar"
           }
          ],
          "carpet": [
           {
            "aaxis": {
             "endlinecolor": "#2a3f5f",
             "gridcolor": "#C8D4E3",
             "linecolor": "#C8D4E3",
             "minorgridcolor": "#C8D4E3",
             "startlinecolor": "#2a3f5f"
            },
            "baxis": {
             "endlinecolor": "#2a3f5f",
             "gridcolor": "#C8D4E3",
             "linecolor": "#C8D4E3",
             "minorgridcolor": "#C8D4E3",
             "startlinecolor": "#2a3f5f"
            },
            "type": "carpet"
           }
          ],
          "choropleth": [
           {
            "colorbar": {
             "outlinewidth": 0,
             "ticks": ""
            },
            "type": "choropleth"
           }
          ],
          "contour": [
           {
            "colorbar": {
             "outlinewidth": 0,
             "ticks": ""
            },
            "colorscale": [
             [
              0,
              "#0d0887"
             ],
             [
              0.1111111111111111,
              "#46039f"
             ],
             [
              0.2222222222222222,
              "#7201a8"
             ],
             [
              0.3333333333333333,
              "#9c179e"
             ],
             [
              0.4444444444444444,
              "#bd3786"
             ],
             [
              0.5555555555555556,
              "#d8576b"
             ],
             [
              0.6666666666666666,
              "#ed7953"
             ],
             [
              0.7777777777777778,
              "#fb9f3a"
             ],
             [
              0.8888888888888888,
              "#fdca26"
             ],
             [
              1,
              "#f0f921"
             ]
            ],
            "type": "contour"
           }
          ],
          "contourcarpet": [
           {
            "colorbar": {
             "outlinewidth": 0,
             "ticks": ""
            },
            "type": "contourcarpet"
           }
          ],
          "heatmap": [
           {
            "colorbar": {
             "outlinewidth": 0,
             "ticks": ""
            },
            "colorscale": [
             [
              0,
              "#0d0887"
             ],
             [
              0.1111111111111111,
              "#46039f"
             ],
             [
              0.2222222222222222,
              "#7201a8"
             ],
             [
              0.3333333333333333,
              "#9c179e"
             ],
             [
              0.4444444444444444,
              "#bd3786"
             ],
             [
              0.5555555555555556,
              "#d8576b"
             ],
             [
              0.6666666666666666,
              "#ed7953"
             ],
             [
              0.7777777777777778,
              "#fb9f3a"
             ],
             [
              0.8888888888888888,
              "#fdca26"
             ],
             [
              1,
              "#f0f921"
             ]
            ],
            "type": "heatmap"
           }
          ],
          "histogram": [
           {
            "marker": {
             "pattern": {
              "fillmode": "overlay",
              "size": 10,
              "solidity": 0.2
             }
            },
            "type": "histogram"
           }
          ],
          "histogram2d": [
           {
            "colorbar": {
             "outlinewidth": 0,
             "ticks": ""
            },
            "colorscale": [
             [
              0,
              "#0d0887"
             ],
             [
              0.1111111111111111,
              "#46039f"
             ],
             [
              0.2222222222222222,
              "#7201a8"
             ],
             [
              0.3333333333333333,
              "#9c179e"
             ],
             [
              0.4444444444444444,
              "#bd3786"
             ],
             [
              0.5555555555555556,
              "#d8576b"
             ],
             [
              0.6666666666666666,
              "#ed7953"
             ],
             [
              0.7777777777777778,
              "#fb9f3a"
             ],
             [
              0.8888888888888888,
              "#fdca26"
             ],
             [
              1,
              "#f0f921"
             ]
            ],
            "type": "histogram2d"
           }
          ],
          "histogram2dcontour": [
           {
            "colorbar": {
             "outlinewidth": 0,
             "ticks": ""
            },
            "colorscale": [
             [
              0,
              "#0d0887"
             ],
             [
              0.1111111111111111,
              "#46039f"
             ],
             [
              0.2222222222222222,
              "#7201a8"
             ],
             [
              0.3333333333333333,
              "#9c179e"
             ],
             [
              0.4444444444444444,
              "#bd3786"
             ],
             [
              0.5555555555555556,
              "#d8576b"
             ],
             [
              0.6666666666666666,
              "#ed7953"
             ],
             [
              0.7777777777777778,
              "#fb9f3a"
             ],
             [
              0.8888888888888888,
              "#fdca26"
             ],
             [
              1,
              "#f0f921"
             ]
            ],
            "type": "histogram2dcontour"
           }
          ],
          "mesh3d": [
           {
            "colorbar": {
             "outlinewidth": 0,
             "ticks": ""
            },
            "type": "mesh3d"
           }
          ],
          "parcoords": [
           {
            "line": {
             "colorbar": {
              "outlinewidth": 0,
              "ticks": ""
             }
            },
            "type": "parcoords"
           }
          ],
          "pie": [
           {
            "automargin": true,
            "type": "pie"
           }
          ],
          "scatter": [
           {
            "fillpattern": {
             "fillmode": "overlay",
             "size": 10,
             "solidity": 0.2
            },
            "type": "scatter"
           }
          ],
          "scatter3d": [
           {
            "line": {
             "colorbar": {
              "outlinewidth": 0,
              "ticks": ""
             }
            },
            "marker": {
             "colorbar": {
              "outlinewidth": 0,
              "ticks": ""
             }
            },
            "type": "scatter3d"
           }
          ],
          "scattercarpet": [
           {
            "marker": {
             "colorbar": {
              "outlinewidth": 0,
              "ticks": ""
             }
            },
            "type": "scattercarpet"
           }
          ],
          "scattergeo": [
           {
            "marker": {
             "colorbar": {
              "outlinewidth": 0,
              "ticks": ""
             }
            },
            "type": "scattergeo"
           }
          ],
          "scattergl": [
           {
            "marker": {
             "colorbar": {
              "outlinewidth": 0,
              "ticks": ""
             }
            },
            "type": "scattergl"
           }
          ],
          "scattermap": [
           {
            "marker": {
             "colorbar": {
              "outlinewidth": 0,
              "ticks": ""
             }
            },
            "type": "scattermap"
           }
          ],
          "scattermapbox": [
           {
            "marker": {
             "colorbar": {
              "outlinewidth": 0,
              "ticks": ""
             }
            },
            "type": "scattermapbox"
           }
          ],
          "scatterpolar": [
           {
            "marker": {
             "colorbar": {
              "outlinewidth": 0,
              "ticks": ""
             }
            },
            "type": "scatterpolar"
           }
          ],
          "scatterpolargl": [
           {
            "marker": {
             "colorbar": {
              "outlinewidth": 0,
              "ticks": ""
             }
            },
            "type": "scatterpolargl"
           }
          ],
          "scatterternary": [
           {
            "marker": {
             "colorbar": {
              "outlinewidth": 0,
              "ticks": ""
             }
            },
            "type": "scatterternary"
           }
          ],
          "surface": [
           {
            "colorbar": {
             "outlinewidth": 0,
             "ticks": ""
            },
            "colorscale": [
             [
              0,
              "#0d0887"
             ],
             [
              0.1111111111111111,
              "#46039f"
             ],
             [
              0.2222222222222222,
              "#7201a8"
             ],
             [
              0.3333333333333333,
              "#9c179e"
             ],
             [
              0.4444444444444444,
              "#bd3786"
             ],
             [
              0.5555555555555556,
              "#d8576b"
             ],
             [
              0.6666666666666666,
              "#ed7953"
             ],
             [
              0.7777777777777778,
              "#fb9f3a"
             ],
             [
              0.8888888888888888,
              "#fdca26"
             ],
             [
              1,
              "#f0f921"
             ]
            ],
            "type": "surface"
           }
          ],
          "table": [
           {
            "cells": {
             "fill": {
              "color": "#EBF0F8"
             },
             "line": {
              "color": "white"
             }
            },
            "header": {
             "fill": {
              "color": "#C8D4E3"
             },
             "line": {
              "color": "white"
             }
            },
            "type": "table"
           }
          ]
         },
         "layout": {
          "annotationdefaults": {
           "arrowcolor": "#2a3f5f",
           "arrowhead": 0,
           "arrowwidth": 1
          },
          "autotypenumbers": "strict",
          "coloraxis": {
           "colorbar": {
            "outlinewidth": 0,
            "ticks": ""
           }
          },
          "colorscale": {
           "diverging": [
            [
             0,
             "#8e0152"
            ],
            [
             0.1,
             "#c51b7d"
            ],
            [
             0.2,
             "#de77ae"
            ],
            [
             0.3,
             "#f1b6da"
            ],
            [
             0.4,
             "#fde0ef"
            ],
            [
             0.5,
             "#f7f7f7"
            ],
            [
             0.6,
             "#e6f5d0"
            ],
            [
             0.7,
             "#b8e186"
            ],
            [
             0.8,
             "#7fbc41"
            ],
            [
             0.9,
             "#4d9221"
            ],
            [
             1,
             "#276419"
            ]
           ],
           "sequential": [
            [
             0,
             "#0d0887"
            ],
            [
             0.1111111111111111,
             "#46039f"
            ],
            [
             0.2222222222222222,
             "#7201a8"
            ],
            [
             0.3333333333333333,
             "#9c179e"
            ],
            [
             0.4444444444444444,
             "#bd3786"
            ],
            [
             0.5555555555555556,
             "#d8576b"
            ],
            [
             0.6666666666666666,
             "#ed7953"
            ],
            [
             0.7777777777777778,
             "#fb9f3a"
            ],
            [
             0.8888888888888888,
             "#fdca26"
            ],
            [
             1,
             "#f0f921"
            ]
           ],
           "sequentialminus": [
            [
             0,
             "#0d0887"
            ],
            [
             0.1111111111111111,
             "#46039f"
            ],
            [
             0.2222222222222222,
             "#7201a8"
            ],
            [
             0.3333333333333333,
             "#9c179e"
            ],
            [
             0.4444444444444444,
             "#bd3786"
            ],
            [
             0.5555555555555556,
             "#d8576b"
            ],
            [
             0.6666666666666666,
             "#ed7953"
            ],
            [
             0.7777777777777778,
             "#fb9f3a"
            ],
            [
             0.8888888888888888,
             "#fdca26"
            ],
            [
             1,
             "#f0f921"
            ]
           ]
          },
          "colorway": [
           "#636efa",
           "#EF553B",
           "#00cc96",
           "#ab63fa",
           "#FFA15A",
           "#19d3f3",
           "#FF6692",
           "#B6E880",
           "#FF97FF",
           "#FECB52"
          ],
          "font": {
           "color": "#2a3f5f"
          },
          "geo": {
           "bgcolor": "white",
           "lakecolor": "white",
           "landcolor": "white",
           "showlakes": true,
           "showland": true,
           "subunitcolor": "#C8D4E3"
          },
          "hoverlabel": {
           "align": "left"
          },
          "hovermode": "closest",
          "mapbox": {
           "style": "light"
          },
          "paper_bgcolor": "white",
          "plot_bgcolor": "white",
          "polar": {
           "angularaxis": {
            "gridcolor": "#EBF0F8",
            "linecolor": "#EBF0F8",
            "ticks": ""
           },
           "bgcolor": "white",
           "radialaxis": {
            "gridcolor": "#EBF0F8",
            "linecolor": "#EBF0F8",
            "ticks": ""
           }
          },
          "scene": {
           "xaxis": {
            "backgroundcolor": "white",
            "gridcolor": "#DFE8F3",
            "gridwidth": 2,
            "linecolor": "#EBF0F8",
            "showbackground": true,
            "ticks": "",
            "zerolinecolor": "#EBF0F8"
           },
           "yaxis": {
            "backgroundcolor": "white",
            "gridcolor": "#DFE8F3",
            "gridwidth": 2,
            "linecolor": "#EBF0F8",
            "showbackground": true,
            "ticks": "",
            "zerolinecolor": "#EBF0F8"
           },
           "zaxis": {
            "backgroundcolor": "white",
            "gridcolor": "#DFE8F3",
            "gridwidth": 2,
            "linecolor": "#EBF0F8",
            "showbackground": true,
            "ticks": "",
            "zerolinecolor": "#EBF0F8"
           }
          },
          "shapedefaults": {
           "line": {
            "color": "#2a3f5f"
           }
          },
          "ternary": {
           "aaxis": {
            "gridcolor": "#DFE8F3",
            "linecolor": "#A2B1C6",
            "ticks": ""
           },
           "baxis": {
            "gridcolor": "#DFE8F3",
            "linecolor": "#A2B1C6",
            "ticks": ""
           },
           "bgcolor": "white",
           "caxis": {
            "gridcolor": "#DFE8F3",
            "linecolor": "#A2B1C6",
            "ticks": ""
           }
          },
          "title": {
           "x": 0.05
          },
          "xaxis": {
           "automargin": true,
           "gridcolor": "#EBF0F8",
           "linecolor": "#EBF0F8",
           "ticks": "",
           "title": {
            "standoff": 15
           },
           "zerolinecolor": "#EBF0F8",
           "zerolinewidth": 2
          },
          "yaxis": {
           "automargin": true,
           "gridcolor": "#EBF0F8",
           "linecolor": "#EBF0F8",
           "ticks": "",
           "title": {
            "standoff": 15
           },
           "zerolinecolor": "#EBF0F8",
           "zerolinewidth": 2
          }
         }
        },
        "title": {
         "font": {
          "size": 20
         },
         "text": "Relación entre Número de Transacciones y Monto Total"
        },
        "width": 900,
        "xaxis": {
         "anchor": "y",
         "domain": [
          0,
          1
         ],
         "title": {
          "text": "Cantidad de Transacciones"
         }
        },
        "yaxis": {
         "anchor": "x",
         "domain": [
          0,
          1
         ],
         "title": {
          "text": "Monto Total (USD)"
         }
        }
       }
      }
     },
     "metadata": {},
     "output_type": "display_data"
    }
   ],
   "source": [
    "import plotly.express as px\n",
    "\n",
    "fig = px.scatter(\n",
    "    dfDrop,\n",
    "    x='Total_Trans_Ct',\n",
    "    y='Total_Trans_Amt',\n",
    "    color='Attrition_Flag',\n",
    "    opacity=0.6,\n",
    "    title='Relación entre Número de Transacciones y Monto Total',\n",
    "    labels={\n",
    "        'Total_Trans_Ct': 'Cantidad de Transacciones',\n",
    "        'Total_Trans_Amt': 'Monto Total (USD)',\n",
    "        'Attrition_Flag': 'Estado del Cliente'\n",
    "    },\n",
    "    color_discrete_sequence=px.colors.qualitative.Set2\n",
    ")\n",
    "\n",
    "fig.update_layout(\n",
    "    title_font_size=20,\n",
    "    legend_title_font_size=12,\n",
    "    width=900,\n",
    "    height=600,\n",
    "    template='plotly_white'\n",
    ")\n",
    "\n",
    "fig.show()\n"
   ]
  },
  {
   "cell_type": "markdown",
   "metadata": {},
   "source": [
    "Para investigar las razones detrás del abandono del uso de tarjetas de crédito, se realizó un análisis detallado de diversas variables. En primer lugar, se examinaron las variables Transaction Count (Total_Trans_Ct) y Transaction Amount (Total_Trans_Amt), debido a la relación directa que existe entre ellas.\n",
    "\n",
    "El análisis gráfico revela que los clientes que abandonan los servicios del banco tienden a realizar un menor número de transacciones y por montos más reducidos. En contraste, los clientes activos suelen efectuar un mayor volumen de transacciones y con valores más elevados, lo que sugiere un mayor compromiso con el uso de la tarjeta."
   ]
  },
  {
   "cell_type": "code",
   "execution_count": 9,
   "metadata": {},
   "outputs": [
    {
     "data": {
      "application/vnd.jupyter.widget-view+json": {
       "model_id": "06ea22a0dc4e41a98e698e3a960e4657",
       "version_major": 2,
       "version_minor": 0
      },
      "text/plain": [
       "interactive(children=(Dropdown(description='Variable:', options=('Customer_Age', 'Dependent_count', 'Months_on…"
      ]
     },
     "metadata": {},
     "output_type": "display_data"
    }
   ],
   "source": [
    "import plotly.express as px\n",
    "import ipywidgets as widgets\n",
    "\n",
    "# Widget para seleccionar variable\n",
    "num_cols = dfDrop.select_dtypes(include='number').columns.tolist()\n",
    "dropdown = widgets.Dropdown(options=num_cols, description='Variable:')\n",
    "\n",
    "# Función para graficar distribución interactiva\n",
    "def plot_kde_interactivo(col):\n",
    "    fig = px.histogram(\n",
    "        dfDrop, x=col, color='Attrition_Flag', nbins=40,\n",
    "        marginal='violin', histnorm='probability density',\n",
    "        barmode='overlay', opacity=0.5,\n",
    "        color_discrete_map={\n",
    "            'Attrited Customer': 'tomato',\n",
    "            'Existing Customer': 'seagreen'\n",
    "        },\n",
    "        title=f'Distribución de {col} por Tipo de Cliente',\n",
    "        labels={'Attrition_Flag': 'Estado del Cliente'}\n",
    "    )\n",
    "    fig.update_layout(template='plotly_white', width=800, height=500)\n",
    "    fig.show()\n",
    "\n",
    "widgets.interact(plot_kde_interactivo, col=dropdown);\n"
   ]
  },
  {
   "cell_type": "markdown",
   "metadata": {},
   "source": [
    "Como se observa en la gráfica anterior, los clientes que realizan menos transacciones y por montos menores son más propensos a abandonar el uso de las tarjetas de crédito. Además, se identifica que estos clientes suelen evitar solicitar préstamos o presentan dificultades para pagarlos, reflejándose en saldos de deuda pendientes."
   ]
  },
  {
   "cell_type": "code",
   "execution_count": 10,
   "metadata": {},
   "outputs": [
    {
     "data": {
      "application/vnd.jupyter.widget-view+json": {
       "model_id": "d731ad1f31824baab4e3096f681d1b1c",
       "version_major": 2,
       "version_minor": 0
      },
      "text/plain": [
       "Tab(children=(Output(), Output(), Output(), Output(), Output()), selected_index=0, titles=('Gender', 'Educatio…"
      ]
     },
     "metadata": {},
     "output_type": "display_data"
    }
   ],
   "source": [
    "import plotly.express as px\n",
    "import ipywidgets as widgets\n",
    "from IPython.display import display\n",
    "\n",
    "cat_cols = dfDrop.select_dtypes(include='object').columns.tolist()\n",
    "cat_cols = [col for col in cat_cols if col != 'Attrition_Flag']\n",
    "\n",
    "tab_contents = []\n",
    "\n",
    "for col in cat_cols:\n",
    "    fig = px.histogram(\n",
    "        dfDrop, x=col, color='Attrition_Flag',\n",
    "        barmode='group',\n",
    "        color_discrete_sequence=px.colors.qualitative.Set2,\n",
    "        title=f'Distribución de {col} por Estado del Cliente',\n",
    "        labels={'Attrition_Flag': 'Estado del Cliente'}\n",
    "    )\n",
    "    fig.update_layout(template='plotly_white', xaxis_title='', yaxis_title='Frecuencia')\n",
    "    out = widgets.Output()\n",
    "    with out:\n",
    "        fig.show()\n",
    "    tab_contents.append(out)\n",
    "\n",
    "tabs = widgets.Tab(children=tab_contents)\n",
    "for i, col in enumerate(cat_cols):\n",
    "    tabs.set_title(i, col)\n",
    "\n",
    "display(tabs)\n"
   ]
  },
  {
   "cell_type": "markdown",
   "metadata": {},
   "source": [
    "<h2 style=\"color:#2E86C1;\">Conclusión</h2>\n",
    "\n",
    "<p>El análisis realizado ha permitido responder a la pregunta sobre por qué los clientes abandonan los servicios de esta entidad bancaria. A partir del estudio detallado de los gráficos, se han extraído las siguientes conclusiones clave:</p>\n",
    "\n",
    "<ul>\n",
    "  <li><b style=\"color:#CB4335;\">16 % de los clientes</b> han cambiado de proveedor, es decir, han dejado de usar la tarjeta de crédito ofrecida por la entidad.</li>\n",
    "  <li>La proporción de <b style=\"color:#2874A6;\">hombres (53 %) y mujeres (47 %)</b> está casi equilibrada, mientras que la distribución entre clientes activos (84 %) y dados de baja (16 %) está más desequilibrada.</li>\n",
    "  <li>La tasa de abandono es ligeramente mayor entre los <b style=\"color:#CB4335;\">hombres (14 %)</b> que entre las mujeres.</li>\n",
    "  <li>Los clientes que han abandonado el servicio presentan un alto nivel educativo:<br>\n",
    "    &nbsp;&nbsp;&nbsp;&nbsp;<b style=\"color:#1F618D;\">30 %</b> con estudios universitarios completos<br>\n",
    "    &nbsp;&nbsp;&nbsp;&nbsp;<b style=\"color:#1F618D;\">19 %</b> con estudios de posgrado\n",
    "  </li>\n",
    "  <li>En cuanto al estado civil, la mayoría de los clientes dados de baja son:<br>\n",
    "    &nbsp;&nbsp;&nbsp;&nbsp;<b style=\"color:#2471A3;\">44 % casados</b><br>\n",
    "    &nbsp;&nbsp;&nbsp;&nbsp;<b style=\"color:#2471A3;\">41 % solteros</b><br>\n",
    "    &nbsp;&nbsp;&nbsp;&nbsp;<b style=\"color:#7B7D7D;\">7 % divorciados</b><br>\n",
    "    &nbsp;&nbsp;&nbsp;&nbsp;<b style=\"color:#7B7D7D;\">8 % con estado civil desconocido</b>\n",
    "  </li>\n",
    "  <li>Por categoría de ingresos, los clientes dados de baja se concentran principalmente en:<br>\n",
    "    &nbsp;&nbsp;&nbsp;&nbsp;<b style=\"color:#117A65;\">38 % con ingresos inferiores a 40.000 dólares</b><br>\n",
    "    &nbsp;&nbsp;&nbsp;&nbsp;<b style=\"color:#117A65;\">17 % entre 60.000 y 80.000 dólares</b><br>\n",
    "    &nbsp;&nbsp;&nbsp;&nbsp;<b style=\"color:#148F77;\">15 % entre 80.000 y 120.000 dólares</b><br>\n",
    "    &nbsp;&nbsp;&nbsp;&nbsp;<b style=\"color:#148F77;\">12 % con ingresos superiores a 120.000 dólares</b><br>\n",
    "    Esto sugiere que los clientes con ingresos más altos no son necesariamente más propensos a abandonar el servicio que aquellos con ingresos medios.\n",
    "  </li>\n",
    "</ul>\n",
    "\n",
    "<hr style=\"border:1px solid #2E86C1;\">\n",
    "\n",
    "<h3 style=\"color:#2E86C1;\">Perfil típico del cliente que abandona el servicio:</h3>\n",
    "\n",
    "<blockquote style=\"font-size: 1.1em; color:#CB4335; border-left: 4px solid #CB4335; padding-left: 10px;\">\n",
    "  Un <b>hombre casado</b>, con un <b>alto nivel educativo</b> y con <b>ingresos medios</b>.\n",
    "</blockquote>\n"
   ]
  }
 ],
 "metadata": {
  "kernelspec": {
   "display_name": ".venv",
   "language": "python",
   "name": "python3"
  },
  "language_info": {
   "codemirror_mode": {
    "name": "ipython",
    "version": 3
   },
   "file_extension": ".py",
   "mimetype": "text/x-python",
   "name": "python",
   "nbconvert_exporter": "python",
   "pygments_lexer": "ipython3",
   "version": "3.13.0"
  }
 },
 "nbformat": 4,
 "nbformat_minor": 4
}
